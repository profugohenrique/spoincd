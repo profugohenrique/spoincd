{
  "nbformat": 4,
  "nbformat_minor": 0,
  "metadata": {
    "colab": {
      "provenance": [],
      "authorship_tag": "ABX9TyNij62ScE57cD/79v/ErwhH",
      "include_colab_link": true
    },
    "kernelspec": {
      "name": "python3",
      "display_name": "Python 3"
    },
    "language_info": {
      "name": "python"
    }
  },
  "cells": [
    {
      "cell_type": "markdown",
      "metadata": {
        "id": "view-in-github",
        "colab_type": "text"
      },
      "source": [
        "<a href=\"https://colab.research.google.com/github/profugohenrique/spoincd/blob/master/INCD29102025.ipynb\" target=\"_parent\"><img src=\"https://colab.research.google.com/assets/colab-badge.svg\" alt=\"Open In Colab\"/></a>"
      ]
    },
    {
      "cell_type": "code",
      "execution_count": null,
      "metadata": {
        "id": "zhmFp_jKEmNJ"
      },
      "outputs": [],
      "source": [
        "#Preparação do modelo\n",
        "import pickle\n",
        "from sklearn.ensemble import RandomForestClassifier\n",
        "\n",
        "# Modelo exemplo\n",
        "model = RandomForestClassifier()\n",
        "# ... treinamento ...\n",
        "pickle.dump(model, open('model.pkl', 'wb'))"
      ]
    },
    {
      "cell_type": "code",
      "source": [
        "#API com FLASK\n",
        "from flask import Flask, request, jsonify\n",
        "import pickle\n",
        "\n",
        "app = Flask(__name__)\n",
        "model = pickle.load(open('model.pkl', 'rb'))\n",
        "\n",
        "@app.route('/predict', methods=['POST'])\n",
        "def predict():\n",
        "    data = request.json\n",
        "    prediction = model.predict([data['features']])\n",
        "    return jsonify({'prediction': prediction.tolist()})"
      ],
      "metadata": {
        "id": "UUYXxEk0E-HB"
      },
      "execution_count": null,
      "outputs": []
    },
    {
      "cell_type": "code",
      "source": [
        "#Dashboard com Streamlit\n",
        "!pip install streamlit\n",
        "import streamlit as st\n",
        "import pickle\n",
        "\n",
        "model = pickle.load(open('model.pkl', 'rb'))\n",
        "\n",
        "st.title('Classifier Demo')\n",
        "features = st.text_input('Enter features (comma-separated)')\n",
        "if features:\n",
        "    prediction = model.predict([list(map(float, features.split(',')))])\n",
        "    st.write(f'Prediction: {prediction[0]}')"
      ],
      "metadata": {
        "colab": {
          "base_uri": "https://localhost:8080/",
          "height": 1000
        },
        "id": "eRcDOZBPFZAA",
        "outputId": "9554d9a6-afe1-4bb0-c77f-6818e12e709b"
      },
      "execution_count": 6,
      "outputs": [
        {
          "output_type": "stream",
          "name": "stdout",
          "text": [
            "Collecting streamlit\n",
            "  Downloading streamlit-1.50.0-py3-none-any.whl.metadata (9.5 kB)\n",
            "Requirement already satisfied: altair!=5.4.0,!=5.4.1,<6,>=4.0 in /usr/local/lib/python3.12/dist-packages (from streamlit) (5.5.0)\n",
            "Requirement already satisfied: blinker<2,>=1.5.0 in /usr/local/lib/python3.12/dist-packages (from streamlit) (1.9.0)\n",
            "Requirement already satisfied: cachetools<7,>=4.0 in /usr/local/lib/python3.12/dist-packages (from streamlit) (5.5.2)\n",
            "Requirement already satisfied: click<9,>=7.0 in /usr/local/lib/python3.12/dist-packages (from streamlit) (8.3.0)\n",
            "Requirement already satisfied: numpy<3,>=1.23 in /usr/local/lib/python3.12/dist-packages (from streamlit) (2.0.2)\n",
            "Requirement already satisfied: packaging<26,>=20 in /usr/local/lib/python3.12/dist-packages (from streamlit) (25.0)\n",
            "Requirement already satisfied: pandas<3,>=1.4.0 in /usr/local/lib/python3.12/dist-packages (from streamlit) (2.2.2)\n",
            "Requirement already satisfied: pillow<12,>=7.1.0 in /usr/local/lib/python3.12/dist-packages (from streamlit) (11.3.0)\n",
            "Requirement already satisfied: protobuf<7,>=3.20 in /usr/local/lib/python3.12/dist-packages (from streamlit) (5.29.5)\n",
            "Requirement already satisfied: pyarrow>=7.0 in /usr/local/lib/python3.12/dist-packages (from streamlit) (18.1.0)\n",
            "Requirement already satisfied: requests<3,>=2.27 in /usr/local/lib/python3.12/dist-packages (from streamlit) (2.32.4)\n",
            "Requirement already satisfied: tenacity<10,>=8.1.0 in /usr/local/lib/python3.12/dist-packages (from streamlit) (8.5.0)\n",
            "Requirement already satisfied: toml<2,>=0.10.1 in /usr/local/lib/python3.12/dist-packages (from streamlit) (0.10.2)\n",
            "Requirement already satisfied: typing-extensions<5,>=4.4.0 in /usr/local/lib/python3.12/dist-packages (from streamlit) (4.15.0)\n",
            "Requirement already satisfied: watchdog<7,>=2.1.5 in /usr/local/lib/python3.12/dist-packages (from streamlit) (6.0.0)\n",
            "Requirement already satisfied: gitpython!=3.1.19,<4,>=3.0.7 in /usr/local/lib/python3.12/dist-packages (from streamlit) (3.1.45)\n",
            "Collecting pydeck<1,>=0.8.0b4 (from streamlit)\n",
            "  Downloading pydeck-0.9.1-py2.py3-none-any.whl.metadata (4.1 kB)\n",
            "Requirement already satisfied: tornado!=6.5.0,<7,>=6.0.3 in /usr/local/lib/python3.12/dist-packages (from streamlit) (6.5.1)\n",
            "Requirement already satisfied: jinja2 in /usr/local/lib/python3.12/dist-packages (from altair!=5.4.0,!=5.4.1,<6,>=4.0->streamlit) (3.1.6)\n",
            "Requirement already satisfied: jsonschema>=3.0 in /usr/local/lib/python3.12/dist-packages (from altair!=5.4.0,!=5.4.1,<6,>=4.0->streamlit) (4.25.1)\n",
            "Requirement already satisfied: narwhals>=1.14.2 in /usr/local/lib/python3.12/dist-packages (from altair!=5.4.0,!=5.4.1,<6,>=4.0->streamlit) (2.9.0)\n",
            "Requirement already satisfied: gitdb<5,>=4.0.1 in /usr/local/lib/python3.12/dist-packages (from gitpython!=3.1.19,<4,>=3.0.7->streamlit) (4.0.12)\n",
            "Requirement already satisfied: python-dateutil>=2.8.2 in /usr/local/lib/python3.12/dist-packages (from pandas<3,>=1.4.0->streamlit) (2.9.0.post0)\n",
            "Requirement already satisfied: pytz>=2020.1 in /usr/local/lib/python3.12/dist-packages (from pandas<3,>=1.4.0->streamlit) (2025.2)\n",
            "Requirement already satisfied: tzdata>=2022.7 in /usr/local/lib/python3.12/dist-packages (from pandas<3,>=1.4.0->streamlit) (2025.2)\n",
            "Requirement already satisfied: charset_normalizer<4,>=2 in /usr/local/lib/python3.12/dist-packages (from requests<3,>=2.27->streamlit) (3.4.4)\n",
            "Requirement already satisfied: idna<4,>=2.5 in /usr/local/lib/python3.12/dist-packages (from requests<3,>=2.27->streamlit) (3.11)\n",
            "Requirement already satisfied: urllib3<3,>=1.21.1 in /usr/local/lib/python3.12/dist-packages (from requests<3,>=2.27->streamlit) (2.5.0)\n",
            "Requirement already satisfied: certifi>=2017.4.17 in /usr/local/lib/python3.12/dist-packages (from requests<3,>=2.27->streamlit) (2025.10.5)\n",
            "Requirement already satisfied: smmap<6,>=3.0.1 in /usr/local/lib/python3.12/dist-packages (from gitdb<5,>=4.0.1->gitpython!=3.1.19,<4,>=3.0.7->streamlit) (5.0.2)\n",
            "Requirement already satisfied: MarkupSafe>=2.0 in /usr/local/lib/python3.12/dist-packages (from jinja2->altair!=5.4.0,!=5.4.1,<6,>=4.0->streamlit) (3.0.3)\n",
            "Requirement already satisfied: attrs>=22.2.0 in /usr/local/lib/python3.12/dist-packages (from jsonschema>=3.0->altair!=5.4.0,!=5.4.1,<6,>=4.0->streamlit) (25.4.0)\n",
            "Requirement already satisfied: jsonschema-specifications>=2023.03.6 in /usr/local/lib/python3.12/dist-packages (from jsonschema>=3.0->altair!=5.4.0,!=5.4.1,<6,>=4.0->streamlit) (2025.9.1)\n",
            "Requirement already satisfied: referencing>=0.28.4 in /usr/local/lib/python3.12/dist-packages (from jsonschema>=3.0->altair!=5.4.0,!=5.4.1,<6,>=4.0->streamlit) (0.37.0)\n",
            "Requirement already satisfied: rpds-py>=0.7.1 in /usr/local/lib/python3.12/dist-packages (from jsonschema>=3.0->altair!=5.4.0,!=5.4.1,<6,>=4.0->streamlit) (0.28.0)\n",
            "Requirement already satisfied: six>=1.5 in /usr/local/lib/python3.12/dist-packages (from python-dateutil>=2.8.2->pandas<3,>=1.4.0->streamlit) (1.17.0)\n",
            "Downloading streamlit-1.50.0-py3-none-any.whl (10.1 MB)\n",
            "\u001b[2K   \u001b[90m━━━━━━━━━━━━━━━━━━━━━━━━━━━━━━━━━━━━━━━━\u001b[0m \u001b[32m10.1/10.1 MB\u001b[0m \u001b[31m87.9 MB/s\u001b[0m eta \u001b[36m0:00:00\u001b[0m\n",
            "\u001b[?25hDownloading pydeck-0.9.1-py2.py3-none-any.whl (6.9 MB)\n",
            "\u001b[2K   \u001b[90m━━━━━━━━━━━━━━━━━━━━━━━━━━━━━━━━━━━━━━━━\u001b[0m \u001b[32m6.9/6.9 MB\u001b[0m \u001b[31m113.0 MB/s\u001b[0m eta \u001b[36m0:00:00\u001b[0m\n",
            "\u001b[?25hInstalling collected packages: pydeck, streamlit\n",
            "Successfully installed pydeck-0.9.1 streamlit-1.50.0\n"
          ]
        },
        {
          "output_type": "error",
          "ename": "FileNotFoundError",
          "evalue": "[Errno 2] No such file or directory: 'model.pkl'",
          "traceback": [
            "\u001b[0;31m---------------------------------------------------------------------------\u001b[0m",
            "\u001b[0;31mFileNotFoundError\u001b[0m                         Traceback (most recent call last)",
            "\u001b[0;32m/tmp/ipython-input-4221422677.py\u001b[0m in \u001b[0;36m<cell line: 0>\u001b[0;34m()\u001b[0m\n\u001b[1;32m      4\u001b[0m \u001b[0;32mimport\u001b[0m \u001b[0mpickle\u001b[0m\u001b[0;34m\u001b[0m\u001b[0;34m\u001b[0m\u001b[0m\n\u001b[1;32m      5\u001b[0m \u001b[0;34m\u001b[0m\u001b[0m\n\u001b[0;32m----> 6\u001b[0;31m \u001b[0mmodel\u001b[0m \u001b[0;34m=\u001b[0m \u001b[0mpickle\u001b[0m\u001b[0;34m.\u001b[0m\u001b[0mload\u001b[0m\u001b[0;34m(\u001b[0m\u001b[0mopen\u001b[0m\u001b[0;34m(\u001b[0m\u001b[0;34m'model.pkl'\u001b[0m\u001b[0;34m,\u001b[0m \u001b[0;34m'rb'\u001b[0m\u001b[0;34m)\u001b[0m\u001b[0;34m)\u001b[0m\u001b[0;34m\u001b[0m\u001b[0;34m\u001b[0m\u001b[0m\n\u001b[0m\u001b[1;32m      7\u001b[0m \u001b[0;34m\u001b[0m\u001b[0m\n\u001b[1;32m      8\u001b[0m \u001b[0mst\u001b[0m\u001b[0;34m.\u001b[0m\u001b[0mtitle\u001b[0m\u001b[0;34m(\u001b[0m\u001b[0;34m'Classifier Demo'\u001b[0m\u001b[0;34m)\u001b[0m\u001b[0;34m\u001b[0m\u001b[0;34m\u001b[0m\u001b[0m\n",
            "\u001b[0;31mFileNotFoundError\u001b[0m: [Errno 2] No such file or directory: 'model.pkl'"
          ]
        }
      ]
    },
    {
      "cell_type": "code",
      "metadata": {
        "colab": {
          "base_uri": "https://localhost:8080/"
        },
        "id": "ca651f30",
        "outputId": "2c945007-fe26-4af8-9d59-5bf9f13f9c7d"
      },
      "source": [
        "!pip install evidently==0.4.3"
      ],
      "execution_count": 2,
      "outputs": [
        {
          "output_type": "stream",
          "name": "stdout",
          "text": [
            "Requirement already satisfied: evidently in /usr/local/lib/python3.12/dist-packages (0.7.15)\n",
            "Requirement already satisfied: plotly<6,>=5.10.0 in /usr/local/lib/python3.12/dist-packages (from evidently) (5.24.1)\n",
            "Requirement already satisfied: statsmodels>=0.12.2 in /usr/local/lib/python3.12/dist-packages (from evidently) (0.14.5)\n",
            "Requirement already satisfied: scikit-learn>=1.1.1 in /usr/local/lib/python3.12/dist-packages (from evidently) (1.6.1)\n",
            "Requirement already satisfied: pandas>=1.3.5 in /usr/local/lib/python3.12/dist-packages (from pandas[parquet]>=1.3.5->evidently) (2.2.2)\n",
            "Requirement already satisfied: numpy>=1.22.0 in /usr/local/lib/python3.12/dist-packages (from evidently) (2.0.2)\n",
            "Requirement already satisfied: nltk>=3.6.7 in /usr/local/lib/python3.12/dist-packages (from evidently) (3.9.1)\n",
            "Requirement already satisfied: scipy>=1.10.0 in /usr/local/lib/python3.12/dist-packages (from evidently) (1.16.2)\n",
            "Requirement already satisfied: requests>=2.32.0 in /usr/local/lib/python3.12/dist-packages (from evidently) (2.32.4)\n",
            "Requirement already satisfied: PyYAML>=5.4 in /usr/local/lib/python3.12/dist-packages (from evidently) (6.0.3)\n",
            "Requirement already satisfied: pydantic>=1.10.16 in /usr/local/lib/python3.12/dist-packages (from evidently) (1.10.24)\n",
            "Requirement already satisfied: litestar>=2.8.3 in /usr/local/lib/python3.12/dist-packages (from evidently) (2.18.0)\n",
            "Requirement already satisfied: typing-inspect>=0.9.0 in /usr/local/lib/python3.12/dist-packages (from evidently) (0.9.0)\n",
            "Requirement already satisfied: uvicorn>=0.22.0 in /usr/local/lib/python3.12/dist-packages (from uvicorn[standard]>=0.22.0->evidently) (0.38.0)\n",
            "Requirement already satisfied: watchdog>=3.0.0 in /usr/local/lib/python3.12/dist-packages (from evidently) (6.0.0)\n",
            "Requirement already satisfied: typer>=0.3 in /usr/local/lib/python3.12/dist-packages (from evidently) (0.20.0)\n",
            "Requirement already satisfied: rich>=13 in /usr/local/lib/python3.12/dist-packages (from evidently) (13.9.4)\n",
            "Requirement already satisfied: iterative-telemetry>=0.0.5 in /usr/local/lib/python3.12/dist-packages (from evidently) (0.0.10)\n",
            "Requirement already satisfied: dynaconf>=3.2.4 in /usr/local/lib/python3.12/dist-packages (from evidently) (3.2.12)\n",
            "Requirement already satisfied: certifi>=2024.7.4 in /usr/local/lib/python3.12/dist-packages (from evidently) (2025.10.5)\n",
            "Requirement already satisfied: urllib3>=1.26.19 in /usr/local/lib/python3.12/dist-packages (from evidently) (2.5.0)\n",
            "Requirement already satisfied: fsspec>=2024.6.1 in /usr/local/lib/python3.12/dist-packages (from evidently) (2025.3.0)\n",
            "Requirement already satisfied: ujson>=5.4.0 in /usr/local/lib/python3.12/dist-packages (from evidently) (5.11.0)\n",
            "Requirement already satisfied: deprecation>=2.1.0 in /usr/local/lib/python3.12/dist-packages (from evidently) (2.1.0)\n",
            "Requirement already satisfied: uuid6>=2024.7.10 in /usr/local/lib/python3.12/dist-packages (from evidently) (2025.0.1)\n",
            "Requirement already satisfied: cryptography>=43.0.1 in /usr/local/lib/python3.12/dist-packages (from evidently) (43.0.3)\n",
            "Requirement already satisfied: cffi>=1.12 in /usr/local/lib/python3.12/dist-packages (from cryptography>=43.0.1->evidently) (2.0.0)\n",
            "Requirement already satisfied: packaging in /usr/local/lib/python3.12/dist-packages (from deprecation>=2.1.0->evidently) (25.0)\n",
            "Requirement already satisfied: appdirs in /usr/local/lib/python3.12/dist-packages (from iterative-telemetry>=0.0.5->evidently) (1.4.4)\n",
            "Requirement already satisfied: filelock in /usr/local/lib/python3.12/dist-packages (from iterative-telemetry>=0.0.5->evidently) (3.20.0)\n",
            "Requirement already satisfied: distro in /usr/local/lib/python3.12/dist-packages (from iterative-telemetry>=0.0.5->evidently) (1.9.0)\n",
            "Requirement already satisfied: anyio>=3 in /usr/local/lib/python3.12/dist-packages (from litestar>=2.8.3->evidently) (4.11.0)\n",
            "Requirement already satisfied: click in /usr/local/lib/python3.12/dist-packages (from litestar>=2.8.3->evidently) (8.3.0)\n",
            "Requirement already satisfied: httpx>=0.22 in /usr/local/lib/python3.12/dist-packages (from litestar>=2.8.3->evidently) (0.28.1)\n",
            "Requirement already satisfied: litestar-htmx>=0.4.0 in /usr/local/lib/python3.12/dist-packages (from litestar>=2.8.3->evidently) (0.5.0)\n",
            "Requirement already satisfied: msgspec>=0.18.2 in /usr/local/lib/python3.12/dist-packages (from litestar>=2.8.3->evidently) (0.19.0)\n",
            "Requirement already satisfied: multidict>=6.0.2 in /usr/local/lib/python3.12/dist-packages (from litestar>=2.8.3->evidently) (6.7.0)\n",
            "Requirement already satisfied: multipart>=1.2.0 in /usr/local/lib/python3.12/dist-packages (from litestar>=2.8.3->evidently) (1.3.0)\n",
            "Requirement already satisfied: polyfactory>=2.6.3 in /usr/local/lib/python3.12/dist-packages (from litestar>=2.8.3->evidently) (2.22.3)\n",
            "Requirement already satisfied: rich-click in /usr/local/lib/python3.12/dist-packages (from litestar>=2.8.3->evidently) (1.9.4)\n",
            "Requirement already satisfied: typing-extensions in /usr/local/lib/python3.12/dist-packages (from litestar>=2.8.3->evidently) (4.15.0)\n",
            "Requirement already satisfied: joblib in /usr/local/lib/python3.12/dist-packages (from nltk>=3.6.7->evidently) (1.5.2)\n",
            "Requirement already satisfied: regex>=2021.8.3 in /usr/local/lib/python3.12/dist-packages (from nltk>=3.6.7->evidently) (2024.11.6)\n",
            "Requirement already satisfied: tqdm in /usr/local/lib/python3.12/dist-packages (from nltk>=3.6.7->evidently) (4.67.1)\n",
            "Requirement already satisfied: python-dateutil>=2.8.2 in /usr/local/lib/python3.12/dist-packages (from pandas>=1.3.5->pandas[parquet]>=1.3.5->evidently) (2.9.0.post0)\n",
            "Requirement already satisfied: pytz>=2020.1 in /usr/local/lib/python3.12/dist-packages (from pandas>=1.3.5->pandas[parquet]>=1.3.5->evidently) (2025.2)\n",
            "Requirement already satisfied: tzdata>=2022.7 in /usr/local/lib/python3.12/dist-packages (from pandas>=1.3.5->pandas[parquet]>=1.3.5->evidently) (2025.2)\n",
            "Requirement already satisfied: pyarrow>=10.0.1 in /usr/local/lib/python3.12/dist-packages (from pandas[parquet]>=1.3.5->evidently) (18.1.0)\n",
            "Requirement already satisfied: tenacity>=6.2.0 in /usr/local/lib/python3.12/dist-packages (from plotly<6,>=5.10.0->evidently) (8.5.0)\n",
            "Requirement already satisfied: charset_normalizer<4,>=2 in /usr/local/lib/python3.12/dist-packages (from requests>=2.32.0->evidently) (3.4.4)\n",
            "Requirement already satisfied: idna<4,>=2.5 in /usr/local/lib/python3.12/dist-packages (from requests>=2.32.0->evidently) (3.11)\n",
            "Requirement already satisfied: markdown-it-py>=2.2.0 in /usr/local/lib/python3.12/dist-packages (from rich>=13->evidently) (4.0.0)\n",
            "Requirement already satisfied: pygments<3.0.0,>=2.13.0 in /usr/local/lib/python3.12/dist-packages (from rich>=13->evidently) (2.19.2)\n",
            "Requirement already satisfied: threadpoolctl>=3.1.0 in /usr/local/lib/python3.12/dist-packages (from scikit-learn>=1.1.1->evidently) (3.6.0)\n",
            "Requirement already satisfied: patsy>=0.5.6 in /usr/local/lib/python3.12/dist-packages (from statsmodels>=0.12.2->evidently) (1.0.2)\n",
            "Requirement already satisfied: shellingham>=1.3.0 in /usr/local/lib/python3.12/dist-packages (from typer>=0.3->evidently) (1.5.4)\n",
            "Requirement already satisfied: mypy-extensions>=0.3.0 in /usr/local/lib/python3.12/dist-packages (from typing-inspect>=0.9.0->evidently) (1.1.0)\n",
            "Requirement already satisfied: h11>=0.8 in /usr/local/lib/python3.12/dist-packages (from uvicorn>=0.22.0->uvicorn[standard]>=0.22.0->evidently) (0.16.0)\n",
            "Requirement already satisfied: httptools>=0.6.3 in /usr/local/lib/python3.12/dist-packages (from uvicorn[standard]>=0.22.0->evidently) (0.7.1)\n",
            "Requirement already satisfied: python-dotenv>=0.13 in /usr/local/lib/python3.12/dist-packages (from uvicorn[standard]>=0.22.0->evidently) (1.1.1)\n",
            "Requirement already satisfied: uvloop>=0.15.1 in /usr/local/lib/python3.12/dist-packages (from uvicorn[standard]>=0.22.0->evidently) (0.22.1)\n",
            "Requirement already satisfied: watchfiles>=0.13 in /usr/local/lib/python3.12/dist-packages (from uvicorn[standard]>=0.22.0->evidently) (1.1.1)\n",
            "Requirement already satisfied: websockets>=10.4 in /usr/local/lib/python3.12/dist-packages (from uvicorn[standard]>=0.22.0->evidently) (15.0.1)\n",
            "Requirement already satisfied: sniffio>=1.1 in /usr/local/lib/python3.12/dist-packages (from anyio>=3->litestar>=2.8.3->evidently) (1.3.1)\n",
            "Requirement already satisfied: pycparser in /usr/local/lib/python3.12/dist-packages (from cffi>=1.12->cryptography>=43.0.1->evidently) (2.23)\n",
            "Requirement already satisfied: httpcore==1.* in /usr/local/lib/python3.12/dist-packages (from httpx>=0.22->litestar>=2.8.3->evidently) (1.0.9)\n",
            "Requirement already satisfied: mdurl~=0.1 in /usr/local/lib/python3.12/dist-packages (from markdown-it-py>=2.2.0->rich>=13->evidently) (0.1.2)\n",
            "Requirement already satisfied: faker>=5.0.0 in /usr/local/lib/python3.12/dist-packages (from polyfactory>=2.6.3->litestar>=2.8.3->evidently) (37.12.0)\n",
            "Requirement already satisfied: six>=1.5 in /usr/local/lib/python3.12/dist-packages (from python-dateutil>=2.8.2->pandas>=1.3.5->pandas[parquet]>=1.3.5->evidently) (1.17.0)\n"
          ]
        }
      ]
    },
    {
      "cell_type": "code",
      "source": [
        "#Data drift\n",
        "!pip install evidently\n",
        "import pandas as pd\n",
        "from sklearn.datasets import load_iris\n",
        "from evidently import Report\n",
        "from evidently.presets import DataDriftPreset, DataSummaryPreset\n",
        "\n",
        "# Dados antigos (treino)\n",
        "iris = load_iris(as_frame=True)\n",
        "train = iris.frame.sample(100, random_state=42)\n",
        "\n",
        "# Dados novos (simulando drift)\n",
        "test = train.copy()\n",
        "test['sepal width (cm)'] *= 1.3  # altera uma feature artificialmente\n",
        "\n",
        "# Relatório Evidently\n",
        "report = Report(metrics=[DataDriftPreset()])\n",
        "report.run(reference_data=train, current_data=test)\n",
        "report.show()\n"
      ],
      "metadata": {
        "colab": {
          "base_uri": "https://localhost:8080/",
          "height": 1000
        },
        "id": "scgks2XqHRTt",
        "outputId": "7e72e6b4-a130-46db-fdb3-18cf0642b445"
      },
      "execution_count": 15,
      "outputs": [
        {
          "output_type": "stream",
          "name": "stdout",
          "text": [
            "Requirement already satisfied: evidently in /usr/local/lib/python3.12/dist-packages (0.7.15)\n",
            "Requirement already satisfied: plotly<6,>=5.10.0 in /usr/local/lib/python3.12/dist-packages (from evidently) (5.24.1)\n",
            "Requirement already satisfied: statsmodels>=0.12.2 in /usr/local/lib/python3.12/dist-packages (from evidently) (0.14.5)\n",
            "Requirement already satisfied: scikit-learn>=1.1.1 in /usr/local/lib/python3.12/dist-packages (from evidently) (1.6.1)\n",
            "Requirement already satisfied: pandas>=1.3.5 in /usr/local/lib/python3.12/dist-packages (from pandas[parquet]>=1.3.5->evidently) (2.2.2)\n",
            "Requirement already satisfied: numpy>=1.22.0 in /usr/local/lib/python3.12/dist-packages (from evidently) (2.0.2)\n",
            "Requirement already satisfied: nltk>=3.6.7 in /usr/local/lib/python3.12/dist-packages (from evidently) (3.9.1)\n",
            "Requirement already satisfied: scipy>=1.10.0 in /usr/local/lib/python3.12/dist-packages (from evidently) (1.16.2)\n",
            "Requirement already satisfied: requests>=2.32.0 in /usr/local/lib/python3.12/dist-packages (from evidently) (2.32.4)\n",
            "Requirement already satisfied: PyYAML>=5.4 in /usr/local/lib/python3.12/dist-packages (from evidently) (6.0.3)\n",
            "Requirement already satisfied: pydantic>=1.10.16 in /usr/local/lib/python3.12/dist-packages (from evidently) (1.10.24)\n",
            "Requirement already satisfied: litestar>=2.8.3 in /usr/local/lib/python3.12/dist-packages (from evidently) (2.18.0)\n",
            "Requirement already satisfied: typing-inspect>=0.9.0 in /usr/local/lib/python3.12/dist-packages (from evidently) (0.9.0)\n",
            "Requirement already satisfied: uvicorn>=0.22.0 in /usr/local/lib/python3.12/dist-packages (from uvicorn[standard]>=0.22.0->evidently) (0.38.0)\n",
            "Requirement already satisfied: watchdog>=3.0.0 in /usr/local/lib/python3.12/dist-packages (from evidently) (6.0.0)\n",
            "Requirement already satisfied: typer>=0.3 in /usr/local/lib/python3.12/dist-packages (from evidently) (0.20.0)\n",
            "Requirement already satisfied: rich>=13 in /usr/local/lib/python3.12/dist-packages (from evidently) (13.9.4)\n",
            "Requirement already satisfied: iterative-telemetry>=0.0.5 in /usr/local/lib/python3.12/dist-packages (from evidently) (0.0.10)\n",
            "Requirement already satisfied: dynaconf>=3.2.4 in /usr/local/lib/python3.12/dist-packages (from evidently) (3.2.12)\n",
            "Requirement already satisfied: certifi>=2024.7.4 in /usr/local/lib/python3.12/dist-packages (from evidently) (2025.10.5)\n",
            "Requirement already satisfied: urllib3>=1.26.19 in /usr/local/lib/python3.12/dist-packages (from evidently) (2.5.0)\n",
            "Requirement already satisfied: fsspec>=2024.6.1 in /usr/local/lib/python3.12/dist-packages (from evidently) (2025.3.0)\n",
            "Requirement already satisfied: ujson>=5.4.0 in /usr/local/lib/python3.12/dist-packages (from evidently) (5.11.0)\n",
            "Requirement already satisfied: deprecation>=2.1.0 in /usr/local/lib/python3.12/dist-packages (from evidently) (2.1.0)\n",
            "Requirement already satisfied: uuid6>=2024.7.10 in /usr/local/lib/python3.12/dist-packages (from evidently) (2025.0.1)\n",
            "Requirement already satisfied: cryptography>=43.0.1 in /usr/local/lib/python3.12/dist-packages (from evidently) (43.0.3)\n",
            "Requirement already satisfied: cffi>=1.12 in /usr/local/lib/python3.12/dist-packages (from cryptography>=43.0.1->evidently) (2.0.0)\n",
            "Requirement already satisfied: packaging in /usr/local/lib/python3.12/dist-packages (from deprecation>=2.1.0->evidently) (25.0)\n",
            "Requirement already satisfied: appdirs in /usr/local/lib/python3.12/dist-packages (from iterative-telemetry>=0.0.5->evidently) (1.4.4)\n",
            "Requirement already satisfied: filelock in /usr/local/lib/python3.12/dist-packages (from iterative-telemetry>=0.0.5->evidently) (3.20.0)\n",
            "Requirement already satisfied: distro in /usr/local/lib/python3.12/dist-packages (from iterative-telemetry>=0.0.5->evidently) (1.9.0)\n",
            "Requirement already satisfied: anyio>=3 in /usr/local/lib/python3.12/dist-packages (from litestar>=2.8.3->evidently) (4.11.0)\n",
            "Requirement already satisfied: click in /usr/local/lib/python3.12/dist-packages (from litestar>=2.8.3->evidently) (8.3.0)\n",
            "Requirement already satisfied: httpx>=0.22 in /usr/local/lib/python3.12/dist-packages (from litestar>=2.8.3->evidently) (0.28.1)\n",
            "Requirement already satisfied: litestar-htmx>=0.4.0 in /usr/local/lib/python3.12/dist-packages (from litestar>=2.8.3->evidently) (0.5.0)\n",
            "Requirement already satisfied: msgspec>=0.18.2 in /usr/local/lib/python3.12/dist-packages (from litestar>=2.8.3->evidently) (0.19.0)\n",
            "Requirement already satisfied: multidict>=6.0.2 in /usr/local/lib/python3.12/dist-packages (from litestar>=2.8.3->evidently) (6.7.0)\n",
            "Requirement already satisfied: multipart>=1.2.0 in /usr/local/lib/python3.12/dist-packages (from litestar>=2.8.3->evidently) (1.3.0)\n",
            "Requirement already satisfied: polyfactory>=2.6.3 in /usr/local/lib/python3.12/dist-packages (from litestar>=2.8.3->evidently) (2.22.3)\n",
            "Requirement already satisfied: rich-click in /usr/local/lib/python3.12/dist-packages (from litestar>=2.8.3->evidently) (1.9.4)\n",
            "Requirement already satisfied: typing-extensions in /usr/local/lib/python3.12/dist-packages (from litestar>=2.8.3->evidently) (4.15.0)\n",
            "Requirement already satisfied: joblib in /usr/local/lib/python3.12/dist-packages (from nltk>=3.6.7->evidently) (1.5.2)\n",
            "Requirement already satisfied: regex>=2021.8.3 in /usr/local/lib/python3.12/dist-packages (from nltk>=3.6.7->evidently) (2024.11.6)\n",
            "Requirement already satisfied: tqdm in /usr/local/lib/python3.12/dist-packages (from nltk>=3.6.7->evidently) (4.67.1)\n",
            "Requirement already satisfied: python-dateutil>=2.8.2 in /usr/local/lib/python3.12/dist-packages (from pandas>=1.3.5->pandas[parquet]>=1.3.5->evidently) (2.9.0.post0)\n",
            "Requirement already satisfied: pytz>=2020.1 in /usr/local/lib/python3.12/dist-packages (from pandas>=1.3.5->pandas[parquet]>=1.3.5->evidently) (2025.2)\n",
            "Requirement already satisfied: tzdata>=2022.7 in /usr/local/lib/python3.12/dist-packages (from pandas>=1.3.5->pandas[parquet]>=1.3.5->evidently) (2025.2)\n",
            "Requirement already satisfied: pyarrow>=10.0.1 in /usr/local/lib/python3.12/dist-packages (from pandas[parquet]>=1.3.5->evidently) (18.1.0)\n",
            "Requirement already satisfied: tenacity>=6.2.0 in /usr/local/lib/python3.12/dist-packages (from plotly<6,>=5.10.0->evidently) (8.5.0)\n",
            "Requirement already satisfied: charset_normalizer<4,>=2 in /usr/local/lib/python3.12/dist-packages (from requests>=2.32.0->evidently) (3.4.4)\n",
            "Requirement already satisfied: idna<4,>=2.5 in /usr/local/lib/python3.12/dist-packages (from requests>=2.32.0->evidently) (3.11)\n",
            "Requirement already satisfied: markdown-it-py>=2.2.0 in /usr/local/lib/python3.12/dist-packages (from rich>=13->evidently) (4.0.0)\n",
            "Requirement already satisfied: pygments<3.0.0,>=2.13.0 in /usr/local/lib/python3.12/dist-packages (from rich>=13->evidently) (2.19.2)\n",
            "Requirement already satisfied: threadpoolctl>=3.1.0 in /usr/local/lib/python3.12/dist-packages (from scikit-learn>=1.1.1->evidently) (3.6.0)\n",
            "Requirement already satisfied: patsy>=0.5.6 in /usr/local/lib/python3.12/dist-packages (from statsmodels>=0.12.2->evidently) (1.0.2)\n",
            "Requirement already satisfied: shellingham>=1.3.0 in /usr/local/lib/python3.12/dist-packages (from typer>=0.3->evidently) (1.5.4)\n",
            "Requirement already satisfied: mypy-extensions>=0.3.0 in /usr/local/lib/python3.12/dist-packages (from typing-inspect>=0.9.0->evidently) (1.1.0)\n",
            "Requirement already satisfied: h11>=0.8 in /usr/local/lib/python3.12/dist-packages (from uvicorn>=0.22.0->uvicorn[standard]>=0.22.0->evidently) (0.16.0)\n",
            "Requirement already satisfied: httptools>=0.6.3 in /usr/local/lib/python3.12/dist-packages (from uvicorn[standard]>=0.22.0->evidently) (0.7.1)\n",
            "Requirement already satisfied: python-dotenv>=0.13 in /usr/local/lib/python3.12/dist-packages (from uvicorn[standard]>=0.22.0->evidently) (1.1.1)\n",
            "Requirement already satisfied: uvloop>=0.15.1 in /usr/local/lib/python3.12/dist-packages (from uvicorn[standard]>=0.22.0->evidently) (0.22.1)\n",
            "Requirement already satisfied: watchfiles>=0.13 in /usr/local/lib/python3.12/dist-packages (from uvicorn[standard]>=0.22.0->evidently) (1.1.1)\n",
            "Requirement already satisfied: websockets>=10.4 in /usr/local/lib/python3.12/dist-packages (from uvicorn[standard]>=0.22.0->evidently) (15.0.1)\n",
            "Requirement already satisfied: sniffio>=1.1 in /usr/local/lib/python3.12/dist-packages (from anyio>=3->litestar>=2.8.3->evidently) (1.3.1)\n",
            "Requirement already satisfied: pycparser in /usr/local/lib/python3.12/dist-packages (from cffi>=1.12->cryptography>=43.0.1->evidently) (2.23)\n",
            "Requirement already satisfied: httpcore==1.* in /usr/local/lib/python3.12/dist-packages (from httpx>=0.22->litestar>=2.8.3->evidently) (1.0.9)\n",
            "Requirement already satisfied: mdurl~=0.1 in /usr/local/lib/python3.12/dist-packages (from markdown-it-py>=2.2.0->rich>=13->evidently) (0.1.2)\n",
            "Requirement already satisfied: faker>=5.0.0 in /usr/local/lib/python3.12/dist-packages (from polyfactory>=2.6.3->litestar>=2.8.3->evidently) (37.12.0)\n",
            "Requirement already satisfied: six>=1.5 in /usr/local/lib/python3.12/dist-packages (from python-dateutil>=2.8.2->pandas>=1.3.5->pandas[parquet]>=1.3.5->evidently) (1.17.0)\n"
          ]
        },
        {
          "output_type": "error",
          "ename": "AttributeError",
          "evalue": "'Report' object has no attribute 'save_html'",
          "traceback": [
            "\u001b[0;31m---------------------------------------------------------------------------\u001b[0m",
            "\u001b[0;31mAttributeError\u001b[0m                            Traceback (most recent call last)",
            "\u001b[0;32m/tmp/ipython-input-3176867696.py\u001b[0m in \u001b[0;36m<cell line: 0>\u001b[0;34m()\u001b[0m\n\u001b[1;32m     17\u001b[0m \u001b[0mreport\u001b[0m \u001b[0;34m=\u001b[0m \u001b[0mReport\u001b[0m\u001b[0;34m(\u001b[0m\u001b[0mmetrics\u001b[0m\u001b[0;34m=\u001b[0m\u001b[0;34m[\u001b[0m\u001b[0mDataDriftPreset\u001b[0m\u001b[0;34m(\u001b[0m\u001b[0;34m)\u001b[0m\u001b[0;34m]\u001b[0m\u001b[0;34m)\u001b[0m\u001b[0;34m\u001b[0m\u001b[0;34m\u001b[0m\u001b[0m\n\u001b[1;32m     18\u001b[0m \u001b[0mreport\u001b[0m\u001b[0;34m.\u001b[0m\u001b[0mrun\u001b[0m\u001b[0;34m(\u001b[0m\u001b[0mreference_data\u001b[0m\u001b[0;34m=\u001b[0m\u001b[0mtrain\u001b[0m\u001b[0;34m,\u001b[0m \u001b[0mcurrent_data\u001b[0m\u001b[0;34m=\u001b[0m\u001b[0mtest\u001b[0m\u001b[0;34m)\u001b[0m\u001b[0;34m\u001b[0m\u001b[0;34m\u001b[0m\u001b[0m\n\u001b[0;32m---> 19\u001b[0;31m \u001b[0mreport\u001b[0m\u001b[0;34m.\u001b[0m\u001b[0msave_html\u001b[0m\u001b[0;34m(\u001b[0m\u001b[0;34m\"data_drift_report.html\"\u001b[0m\u001b[0;34m)\u001b[0m\u001b[0;34m\u001b[0m\u001b[0;34m\u001b[0m\u001b[0m\n\u001b[0m",
            "\u001b[0;31mAttributeError\u001b[0m: 'Report' object has no attribute 'save_html'"
          ]
        }
      ]
    },
    {
      "cell_type": "code",
      "source": [
        "#Alternativa sem evidently\n",
        "import numpy as np\n",
        "from scipy.stats import ks_2samp\n",
        "from sklearn.datasets import load_iris\n",
        "import pandas as pd\n",
        "\n",
        "iris = load_iris(as_frame=True)\n",
        "train = iris.frame.sample(100, random_state=42)\n",
        "test = train.copy()\n",
        "test['sepal width (cm)'] *= 1.3  # simula drift\n",
        "\n",
        "# Teste KS (Kolmogorov-Smirnov)\n",
        "for col in train.columns[:-1]:\n",
        "    stat, p = ks_2samp(train[col], test[col])\n",
        "    print(f\"{col}: KS={stat:.3f}, p={p:.4f}\")\n",
        "###\n",
        "###Interpretação:\n",
        "## Se p < 0.05, há evidência de drift (a distribuição mudou).\n",
        "## Se p ≥ 0.05, a distribuição é estável."
      ],
      "metadata": {
        "colab": {
          "base_uri": "https://localhost:8080/"
        },
        "id": "Cvus11MVMQtY",
        "outputId": "fc6e855b-29c4-4a6b-f6ab-b83acca1ec34"
      },
      "execution_count": 16,
      "outputs": [
        {
          "output_type": "stream",
          "name": "stdout",
          "text": [
            "sepal length (cm): KS=0.000, p=1.0000\n",
            "sepal width (cm): KS=0.700, p=0.0000\n",
            "petal length (cm): KS=0.000, p=1.0000\n",
            "petal width (cm): KS=0.000, p=1.0000\n"
          ]
        }
      ]
    },
    {
      "cell_type": "code",
      "source": [
        "###KS\n",
        "from scipy.stats import ks_2samp\n",
        "import numpy as np\n",
        "\n",
        "# Exemplo: feature mudou de média 5 → 6\n",
        "x_train = np.random.normal(5, 1, 200)\n",
        "x_prod  = np.random.normal(6, 1, 200)\n",
        "\n",
        "stat, p_value = ks_2samp(x_train, x_prod)\n",
        "print(f\"KS={stat:.3f}, p-value={p_value:.4f}\")\n",
        "\n",
        "if p_value < 0.05:\n",
        "    print(\" Drift detectado!\")\n",
        "else:\n",
        "    print(\" Distribuições semelhantes.\")\n"
      ],
      "metadata": {
        "colab": {
          "base_uri": "https://localhost:8080/"
        },
        "id": "VDRTdMoIN0p5",
        "outputId": "01905c37-9427-465b-c911-792974819e97"
      },
      "execution_count": 17,
      "outputs": [
        {
          "output_type": "stream",
          "name": "stdout",
          "text": [
            "KS=0.455, p-value=0.0000\n",
            " Drift detectado!\n"
          ]
        }
      ]
    },
    {
      "cell_type": "code",
      "source": [
        "#Chi-Quadrado\n",
        "import pandas as pd\n",
        "from scipy.stats import chi2_contingency\n",
        "\n",
        "# Frequências de categorias (exemplo: tipos de clientes)\n",
        "treino = pd.Series(['A', 'A', 'B', 'B', 'C'] * 20)\n",
        "producao = pd.Series(['A', 'B', 'B', 'C', 'C'] * 20)\n",
        "\n",
        "# Tabela de contingência\n",
        "contingencia = pd.crosstab(index=treino, columns=producao)\n",
        "chi2, p, dof, expected = chi2_contingency(contingencia)\n",
        "\n",
        "print(f\"χ²={chi2:.3f}, p-value={p:.4f}\")\n",
        "\n",
        "if p < 0.05:\n",
        "    print(\"Mudança significativa na distribuição categórica.\")\n",
        "else:\n",
        "    print(\" Distribuições semelhantes.\")\n"
      ],
      "metadata": {
        "colab": {
          "base_uri": "https://localhost:8080/"
        },
        "id": "2ndokOVrOjtE",
        "outputId": "eeb52589-00aa-490c-834d-2d9c7ba14f9d"
      },
      "execution_count": 18,
      "outputs": [
        {
          "output_type": "stream",
          "name": "stdout",
          "text": [
            "χ²=75.000, p-value=0.0000\n",
            "Mudança significativa na distribuição categórica.\n"
          ]
        }
      ]
    },
    {
      "cell_type": "code",
      "source": [
        "#PSI\n",
        "import numpy as np\n",
        "import pandas as pd\n",
        "\n",
        "def calculate_psi(expected, actual, bins=10):\n",
        "    expected_perc, _ = np.histogram(expected, bins=bins)\n",
        "    actual_perc, _ = np.histogram(actual, bins=bins)\n",
        "\n",
        "    expected_perc = expected_perc / len(expected)\n",
        "    actual_perc = actual_perc / len(actual)\n",
        "\n",
        "    psi = np.sum((expected_perc - actual_perc) * np.log((expected_perc + 1e-8) / (actual_perc + 1e-8)))\n",
        "    return psi\n",
        "\n",
        "# Exemplo de uso\n",
        "train = np.random.normal(50, 5, 1000)\n",
        "prod  = np.random.normal(55, 5, 1000)\n",
        "\n",
        "psi_value = calculate_psi(train, prod)\n",
        "print(f\"PSI = {psi_value:.3f}\")\n",
        "\n",
        "if psi_value < 0.1:\n",
        "    print(\"Estável\")\n",
        "elif psi_value < 0.25:\n",
        "    print(\" Mudança moderada\")\n",
        "else:\n",
        "    print(\" Drift significativo\")\n"
      ],
      "metadata": {
        "colab": {
          "base_uri": "https://localhost:8080/"
        },
        "id": "O1Tu7UJLQMNu",
        "outputId": "8a303612-cf54-45d5-f92f-cb346d5906f4"
      },
      "execution_count": 19,
      "outputs": [
        {
          "output_type": "stream",
          "name": "stdout",
          "text": [
            "PSI = 0.119\n",
            " Mudança moderada\n"
          ]
        }
      ]
    },
    {
      "cell_type": "code",
      "source": [
        "name: ML Pipeline\n",
        "on: [push]\n",
        "jobs:\n",
        "  test:\n",
        "    runs-on: ubuntu-latest\n",
        "    steps:\n",
        "      - uses: actions/checkout@v2\n",
        "      - name: Run tests\n",
        "        run: |\n",
        "          python -m pytest tests/\n",
        "          python validate_data.py"
      ],
      "metadata": {
        "id": "ZN_5Vn4RTS8i"
      },
      "execution_count": null,
      "outputs": []
    },
    {
      "cell_type": "code",
      "metadata": {
        "colab": {
          "base_uri": "https://localhost:8080/",
          "height": 602
        },
        "id": "562cc7c9",
        "outputId": "46919c04-7c1b-4afa-b497-8924441cfc35"
      },
      "source": [
        "!pip install fairlearn"
      ],
      "execution_count": 21,
      "outputs": [
        {
          "output_type": "stream",
          "name": "stdout",
          "text": [
            "Collecting fairlearn\n",
            "  Downloading fairlearn-0.13.0-py3-none-any.whl.metadata (7.3 kB)\n",
            "Requirement already satisfied: narwhals>=1.14.0 in /usr/local/lib/python3.12/dist-packages (from fairlearn) (2.9.0)\n",
            "Requirement already satisfied: numpy>=1.24.4 in /usr/local/lib/python3.12/dist-packages (from fairlearn) (2.0.2)\n",
            "Requirement already satisfied: pandas>=2.0.3 in /usr/local/lib/python3.12/dist-packages (from fairlearn) (2.2.2)\n",
            "Requirement already satisfied: scikit-learn>=1.2.1 in /usr/local/lib/python3.12/dist-packages (from fairlearn) (1.6.1)\n",
            "Collecting scipy<1.16.0,>=1.9.3 (from fairlearn)\n",
            "  Downloading scipy-1.15.3-cp312-cp312-manylinux_2_17_x86_64.manylinux2014_x86_64.whl.metadata (61 kB)\n",
            "\u001b[2K     \u001b[90m━━━━━━━━━━━━━━━━━━━━━━━━━━━━━━━━━━━━━━━━\u001b[0m \u001b[32m62.0/62.0 kB\u001b[0m \u001b[31m2.8 MB/s\u001b[0m eta \u001b[36m0:00:00\u001b[0m\n",
            "\u001b[?25hRequirement already satisfied: python-dateutil>=2.8.2 in /usr/local/lib/python3.12/dist-packages (from pandas>=2.0.3->fairlearn) (2.9.0.post0)\n",
            "Requirement already satisfied: pytz>=2020.1 in /usr/local/lib/python3.12/dist-packages (from pandas>=2.0.3->fairlearn) (2025.2)\n",
            "Requirement already satisfied: tzdata>=2022.7 in /usr/local/lib/python3.12/dist-packages (from pandas>=2.0.3->fairlearn) (2025.2)\n",
            "Requirement already satisfied: joblib>=1.2.0 in /usr/local/lib/python3.12/dist-packages (from scikit-learn>=1.2.1->fairlearn) (1.5.2)\n",
            "Requirement already satisfied: threadpoolctl>=3.1.0 in /usr/local/lib/python3.12/dist-packages (from scikit-learn>=1.2.1->fairlearn) (3.6.0)\n",
            "Requirement already satisfied: six>=1.5 in /usr/local/lib/python3.12/dist-packages (from python-dateutil>=2.8.2->pandas>=2.0.3->fairlearn) (1.17.0)\n",
            "Downloading fairlearn-0.13.0-py3-none-any.whl (251 kB)\n",
            "\u001b[2K   \u001b[90m━━━━━━━━━━━━━━━━━━━━━━━━━━━━━━━━━━━━━━━━\u001b[0m \u001b[32m251.6/251.6 kB\u001b[0m \u001b[31m10.4 MB/s\u001b[0m eta \u001b[36m0:00:00\u001b[0m\n",
            "\u001b[?25hDownloading scipy-1.15.3-cp312-cp312-manylinux_2_17_x86_64.manylinux2014_x86_64.whl (37.3 MB)\n",
            "\u001b[2K   \u001b[90m━━━━━━━━━━━━━━━━━━━━━━━━━━━━━━━━━━━━━━━━\u001b[0m \u001b[32m37.3/37.3 MB\u001b[0m \u001b[31m15.7 MB/s\u001b[0m eta \u001b[36m0:00:00\u001b[0m\n",
            "\u001b[?25hInstalling collected packages: scipy, fairlearn\n",
            "  Attempting uninstall: scipy\n",
            "    Found existing installation: scipy 1.16.2\n",
            "    Uninstalling scipy-1.16.2:\n",
            "      Successfully uninstalled scipy-1.16.2\n",
            "\u001b[31mERROR: pip's dependency resolver does not currently take into account all the packages that are installed. This behaviour is the source of the following dependency conflicts.\n",
            "albumentations 2.0.8 requires pydantic>=2.9.2, but you have pydantic 1.10.24 which is incompatible.\u001b[0m\u001b[31m\n",
            "\u001b[0mSuccessfully installed fairlearn-0.13.0 scipy-1.15.3\n"
          ]
        },
        {
          "output_type": "display_data",
          "data": {
            "application/vnd.colab-display-data+json": {
              "pip_warning": {
                "packages": [
                  "scipy"
                ]
              },
              "id": "595b3b185b00407ebb91b89360e50307"
            }
          },
          "metadata": {}
        }
      ]
    },
    {
      "cell_type": "code",
      "source": [
        "#Detecção de Vieses :\n",
        "\n",
        "from fairlearn.metrics import demographic_parity_difference\n",
        "import numpy as np\n",
        "\n",
        "# Exemplo de dados (substitua com seus dados reais)\n",
        "y_true = np.array([0, 1, 0, 1, 0, 1, 0, 1, 0, 1]) # True labels\n",
        "y_pred = np.array([0, 0, 0, 1, 0, 1, 1, 1, 0, 0]) # Predicted labels\n",
        "gender = np.array(['Male', 'Female', 'Male', 'Female', 'Male', 'Female', 'Male', 'Female', 'Male', 'Female']) # Sensitive feature\n",
        "\n",
        "# Exemplo de fairness check\n",
        "dp_diff = demographic_parity_difference(y_true, y_pred, sensitive_features=gender)\n",
        "print(f\"Demographic Parity Difference: {dp_diff}\")"
      ],
      "metadata": {
        "colab": {
          "base_uri": "https://localhost:8080/"
        },
        "id": "8TRiYri-UxnC",
        "outputId": "3231cd88-3d6d-4aba-e74e-616291ad3979"
      },
      "execution_count": 1,
      "outputs": [
        {
          "output_type": "stream",
          "name": "stdout",
          "text": [
            "Demographic Parity Difference: 0.39999999999999997\n"
          ]
        }
      ]
    },
    {
      "cell_type": "code",
      "source": [
        "import numpy as np\n",
        "\n",
        "# Previsões do modelo\n",
        "y_pred = np.array([1,0,1,1,0,1,0,1,0,0])  # 1=positivo\n",
        "# Grupo sensível: 0=homem, 1=mulher\n",
        "A = np.array([0,0,0,0,0,1,1,1,1,1])\n",
        "\n",
        "# Taxas de aprovação por grupo\n",
        "p0 = y_pred[A==0].mean()\n",
        "p1 = y_pred[A==1].mean()\n",
        "\n",
        "dpd = p0 - p1\n",
        "print(\"Demographic Parity Difference:\", dpd)\n"
      ],
      "metadata": {
        "colab": {
          "base_uri": "https://localhost:8080/"
        },
        "id": "qeNQWs71XhaS",
        "outputId": "17e472b0-f83d-473c-dc6a-5fdd39392987"
      },
      "execution_count": 3,
      "outputs": [
        {
          "output_type": "stream",
          "name": "stdout",
          "text": [
            "Demographic Parity Difference: 0.19999999999999996\n"
          ]
        }
      ]
    },
    {
      "cell_type": "code",
      "source": [],
      "metadata": {
        "id": "OMmLByHEFabw"
      },
      "execution_count": null,
      "outputs": []
    }
  ]
}